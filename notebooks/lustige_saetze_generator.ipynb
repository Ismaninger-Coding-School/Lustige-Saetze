{
 "cells": [
  {
   "cell_type": "markdown",
   "metadata": {},
   "source": [
    "# Lustige-Sätze-Generator\n",
    "Ziel: ein interaktiver Generator für Zufallssätze, den man während des Spiels verändern kann (z. B. neue Wörter hinzufügen).\n",
    "## Schritt 1: Bibliotheken importieren und Import überprüfen"
   ]
  },
  {
   "cell_type": "code",
   "execution_count": null,
   "metadata": {},
   "outputs": [],
   "source": [
    "# Import\n",
    "import random\n",
    "\n",
    "# Überprüfung - hat der Import geklappt? Wenn ja, sollte eine ganze Zahl zwischen 1 und 5 ausgegeben werden\n",
    "random.randint(1, 5)"
   ]
  },
  {
   "cell_type": "markdown",
   "metadata": {},
   "source": [
    "## Schritt 2: Listen für die einzelnen Satzteile erstellen\n",
    "Die Listen müssen nicht gleich lang sein. Auch die Kategorien können andere sein als die hier gezeigten, nur die Wer- und die Macht-was-Listen sind wichtig."
   ]
  },
  {
   "cell_type": "code",
   "execution_count": null,
   "metadata": {},
   "outputs": [],
   "source": [
    "# Wer-Liste\n",
    "wer = ['Markus Söder', 'Taylor Swift', 'Naruto', 'Kostanze Klosterhalfen']\n",
    "\n",
    "# Macht-was-Liste\n",
    "macht_was = ['geht bouldern', 'feiert', 'unterschreibt den Arbeitsvertrag', 'rennt']\n",
    "\n",
    "# Wie-Liste\n",
    "wie = ['völlig außer Atem', 'ganz entspannt', 'fahrlässig', 'langsam und sorgfältig']\n",
    "\n",
    "# Warum-Liste\n",
    "warum = ['weil der Bus zu spät kam', 'weil die Sterne günstig stehen', 'aus Liebe', \n",
    "         'weil alles eine Frage der Perspektive ist']"
   ]
  },
  {
   "cell_type": "markdown",
   "metadata": {},
   "source": [
    "## Schritt 3: die Listen zu einem Dictionary machen"
   ]
  },
  {
   "cell_type": "code",
   "execution_count": null,
   "metadata": {},
   "outputs": [],
   "source": [
    "satzbausteine = {'Wer?': wer, 'Macht was?': macht_was, 'Wie?': wie, 'Warum?': warum}"
   ]
  },
  {
   "cell_type": "markdown",
   "metadata": {},
   "source": [
    "## Schritt 4: Grundfunktion für das Spiel erstellen\n",
    "ACHTUNG: hier müssen wir nochmal abgleichen, ob meine Art der Iteration durch das Dictionary mit dem übereinstimmt, was davor im Kurs erklärt wird! Außerdem müssen wir _len()_ einführen."
   ]
  },
  {
   "cell_type": "code",
   "execution_count": null,
   "metadata": {},
   "outputs": [],
   "source": [
    "def generator(dictionary):\n",
    "    for s in dictionary:\n",
    "        max_anzahl = len(dictionary[s])\n",
    "        index = random.randint(0, max_anzahl-1)\n",
    "        print(dictionary[s][index], end=' ')\n",
    "        \n",
    "# Funktion testen\n",
    "generator(satzbausteine)"
   ]
  },
  {
   "cell_type": "markdown",
   "metadata": {},
   "source": [
    "## Schritt 5: Spiel interaktiv machen\n",
    "...durch die Abfrage, ob man eine weitere Runde spielen möchte."
   ]
  },
  {
   "cell_type": "code",
   "execution_count": null,
   "metadata": {},
   "outputs": [],
   "source": [
    "neue_runde = True\n",
    "while neue_runde:\n",
    "    generator(satzbausteine)\n",
    "    eingabe = input('Nochmal? J/N: ')\n",
    "    if eingabe == 'N':\n",
    "        neue_runde = False"
   ]
  },
  {
   "cell_type": "markdown",
   "metadata": {},
   "source": [
    "## Schritt 6: neue Wörter während des Spiels hinzufügen"
   ]
  },
  {
   "cell_type": "code",
   "execution_count": null,
   "metadata": {},
   "outputs": [],
   "source": [
    "neue_runde = True\n",
    "while neue_runde:\n",
    "    generator(satzbausteine)\n",
    "    \n",
    "    eingabe1 = input('Willst du ein neues Wort hinzufügen? J/N: ')\n",
    "    if eingabe1 == 'J':\n",
    "        kategorien = str(list(satzbausteine.keys()))\n",
    "        eingabe11 = input('Zu welcher Kategorie? ' + kategorien)\n",
    "        for s in satzbausteine:\n",
    "            if eingabe11 == s:\n",
    "                eingabe12 = input('Gib hier das neue Wort in der Kategorie \"' + s + '\" ein: ')\n",
    "                satzbausteine[s].append(eingabe12)\n",
    "        print(satzbausteine)\n",
    "    \n",
    "    eingabe2 = input('Nochmal? J/N: ')\n",
    "    if eingabe2 == 'N':\n",
    "        neue_runde = False"
   ]
  }
 ],
 "metadata": {
  "kernelspec": {
   "display_name": "Python 3",
   "language": "python",
   "name": "python3"
  },
  "language_info": {
   "codemirror_mode": {
    "name": "ipython",
    "version": 3
   },
   "file_extension": ".py",
   "mimetype": "text/x-python",
   "name": "python",
   "nbconvert_exporter": "python",
   "pygments_lexer": "ipython3",
   "version": "3.8.5"
  }
 },
 "nbformat": 4,
 "nbformat_minor": 4
}
