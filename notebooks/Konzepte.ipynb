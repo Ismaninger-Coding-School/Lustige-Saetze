{
 "cells": [
  {
   "cell_type": "markdown",
   "id": "aeeed8d0",
   "metadata": {},
   "source": [
    "# Python Konzepte"
   ]
  },
  {
   "cell_type": "markdown",
   "id": "cc9f22c9",
   "metadata": {},
   "source": [
    "## Listen"
   ]
  },
  {
   "cell_type": "markdown",
   "id": "f94e0c1c",
   "metadata": {},
   "source": [
    "Möchte man mehrere Daten an einem Ort sammeln, nutzt man dafür `Listen`. Solche Listen speichert man in Variablen, genau wie Zahlen oder Wörter. Man erstellt solche Listen, in dem man die Einträge, durch ein Komma getrennt, zwischen zwei eckige Klammern `[]` schreibt.\n",
    "\n",
    "Beispiele:"
   ]
  },
  {
   "cell_type": "code",
   "execution_count": null,
   "id": "0d473494",
   "metadata": {},
   "outputs": [],
   "source": [
    "einkaufsliste = [\"Müsli\", \"Schokolade\", \"Erdbeeren\"]\n",
    "\n",
    "zahlen = [0, 1, 2, 3, 4, 5, 6, 7, 8, 9]\n",
    "\n",
    "print(einkaufsliste)"
   ]
  },
  {
   "cell_type": "markdown",
   "id": "f8228fce",
   "metadata": {},
   "source": [
    "Die Listeneinträge können auch unterschiedliche `Datentypen` haben:"
   ]
  },
  {
   "cell_type": "code",
   "execution_count": null,
   "id": "203bd103",
   "metadata": {},
   "outputs": [],
   "source": [
    "gemischte_liste = [\"hallo\", 7, True, zahlen]"
   ]
  },
  {
   "cell_type": "markdown",
   "id": "eea80faf",
   "metadata": {},
   "source": [
    "Was ist die Ausgabe, der folgenden Zelle?"
   ]
  },
  {
   "cell_type": "code",
   "execution_count": null,
   "id": "017754b4",
   "metadata": {},
   "outputs": [],
   "source": [
    "print(gemischte_liste)"
   ]
  },
  {
   "cell_type": "markdown",
   "id": "50bc4655",
   "metadata": {},
   "source": [
    "### Was kann man mit Listen so machen?\n",
    "\n",
    "Es ist möglich auf die einzelnen Einträge der Liste zuzugreifen mit dem Befehl `list[k]`, wobei für `list` der Name der Liste eingesetzt werden muss und `k` die Position in der Liste ist.\n",
    "\n",
    "#### Wichtig:\n",
    "In der Informatik und in fast jeder Programmiersprache fängt man beim Zählen nicht mit 1 sondern mit 0 an. Möchte man also auf das ERSTE Element in der Liste zugreifen, schreibt man `list[0]` statt `list[1]`. Möchte man auf das zweite Element zugreifen, schreibt man `list[1]`, und so weiter. \n",
    "\n",
    "\n",
    "\n",
    "Nun erst mal ein paar Beispiele:"
   ]
  },
  {
   "cell_type": "code",
   "execution_count": null,
   "id": "a007ed2b",
   "metadata": {},
   "outputs": [],
   "source": [
    "einkaufsliste = [\"Müsli\", \"Schokolade\", \"Erdbeeren\"]\n",
    "\n",
    "print(einkaufsliste[1])"
   ]
  },
  {
   "cell_type": "markdown",
   "id": "27786ecd",
   "metadata": {},
   "source": [
    "Was passiert, wenn wir folgendes versuchen?"
   ]
  },
  {
   "cell_type": "code",
   "execution_count": null,
   "id": "19db6df1",
   "metadata": {},
   "outputs": [],
   "source": [
    "print(einkaufsliste[3])"
   ]
  },
  {
   "cell_type": "code",
   "execution_count": null,
   "id": "3bef58e0",
   "metadata": {},
   "outputs": [],
   "source": [
    "zahlen = [0, 1, 2, 3, 4, 5, 6, 7, 8, 9]\n",
    "\n",
    "print(zahlen[8])"
   ]
  },
  {
   "cell_type": "markdown",
   "id": "d7e57601",
   "metadata": {},
   "source": [
    "Wir können mit diesem Konzept auch Einträge in einer Liste ändern:"
   ]
  },
  {
   "cell_type": "code",
   "execution_count": null,
   "id": "b4e597ff",
   "metadata": {},
   "outputs": [],
   "source": [
    "einkaufsliste = [\"Müsli\", \"Schokolade\", \"Erdbeeren\"]\n",
    "\n",
    "einkaufsliste[0] = \"Haferflocken\"\n",
    "\n",
    "print(einkaufsliste)"
   ]
  },
  {
   "cell_type": "markdown",
   "id": "d5b612bc",
   "metadata": {},
   "source": [
    "Außerdem können wir Listen vergrößern. Der Befehl `list.append(x)`, hängt `x` an die Liste `list` dran.\n",
    "\n",
    "Beispiel:"
   ]
  },
  {
   "cell_type": "code",
   "execution_count": null,
   "id": "c4572af3",
   "metadata": {},
   "outputs": [],
   "source": [
    "einkaufsliste = [\"Müsli\", \"Schokolade\", \"Erdbeeren\"]\n",
    "\n",
    "einkaufsliste.append(\"Äpfel\")\n",
    "\n",
    "print(einkaufsliste)"
   ]
  },
  {
   "cell_type": "markdown",
   "id": "7531c22d",
   "metadata": {},
   "source": [
    "Der Befehl `len(list)` gibt uns an, wie viele Elemente in einer Liste sind.\n",
    "\n",
    "Beispiel:"
   ]
  },
  {
   "cell_type": "code",
   "execution_count": null,
   "id": "8f29e89b",
   "metadata": {},
   "outputs": [],
   "source": [
    "einkaufsliste = [\"Müsli\", \"Schokolade\", \"Erdbeeren\"]\n",
    "print(len(einkaufsliste))\n",
    "\n",
    "einkaufsliste.append(\"Äpfel\")\n",
    "print(len(einkaufsliste))"
   ]
  },
  {
   "cell_type": "markdown",
   "id": "61b38b7d",
   "metadata": {},
   "source": [
    "Wir beschränken uns jetzt erst mal auf die gerade kennengelernten Befehle, aber es gibt noch ganz viele weitere tolle Sachen, die man mit Listen machen kann!"
   ]
  },
  {
   "cell_type": "markdown",
   "id": "337cf24e",
   "metadata": {},
   "source": [
    "#### Übung"
   ]
  },
  {
   "cell_type": "markdown",
   "id": "bc55a519",
   "metadata": {},
   "source": [
    "Erstelle eine Liste `Lieblingstiere` mit deinen vier Lieblingstieren. Gib die zweite Tierart in deiner Liste mithilfe von `print()` aus. Ersetze dann die vierte Tierart in deiner Liste mit dem Wort \"Pinguine\". "
   ]
  },
  {
   "cell_type": "code",
   "execution_count": null,
   "id": "f7b7237f",
   "metadata": {},
   "outputs": [],
   "source": []
  },
  {
   "cell_type": "markdown",
   "id": "0ef84f0f",
   "metadata": {},
   "source": [
    "## Dictionaries"
   ]
  },
  {
   "cell_type": "markdown",
   "id": "ee27fa7f",
   "metadata": {},
   "source": [
    "Manchmal wollen wir unsere Daten nicht einfach in Listen hintereinander abspeichern, sondern noch mehr mit ihnen machen. `Dictionaries` (auf Deutsch `Wörterbücher`) werden ebenfalls dafür genutzt, mehrere Daten an einem Ort zu speichern, aber die Einträge bestehen nun im Gegensatz zu Listen nicht nur aus einer Zahl oder einem Wort, sondern aus Paaren: `Schlüssel:Wert`."
   ]
  },
  {
   "cell_type": "markdown",
   "id": "910a1c22",
   "metadata": {},
   "source": [
    "Wollen wir beispielsweise ein Telefonbuch erstellen, bringt es uns nichts, nur die Nummern in einer Liste abzuspeichern, sondern wir müssen natürlich auch wissen, wem die Nummer gehört. Man hat also ein Paar `Name:Telefonnummer` und kann so eindeutig zuordnen, wem welche Telefonnummer gehört."
   ]
  },
  {
   "cell_type": "markdown",
   "id": "b4f7adc6",
   "metadata": {},
   "source": [
    "Dictionaries erstellt man, in dem man die Paare, durch ein Komma getrennt, zwischen zwei geschweifte Klammern `{}` schreibt. \n",
    "\n",
    "Beispiele:"
   ]
  },
  {
   "cell_type": "code",
   "execution_count": null,
   "id": "1c66e689",
   "metadata": {},
   "outputs": [],
   "source": [
    "telefonbuch = {\"Inken\": 1777837, \"Martin\": 242348283, \"Vroni\": 93382034}\n",
    "\n",
    "steckbrief = {\"Name\":\"Inken\",\n",
    "              \"Alter\":24, \n",
    "              \"Verheiratet\":False}"
   ]
  },
  {
   "cell_type": "markdown",
   "id": "35366384",
   "metadata": {},
   "source": [
    "#### Wichtig:\n",
    "\n",
    "Die Schlüssel müssen unterscheidbar sein! Man kann nicht zwei mal den gleichen Schlüssel für unterschiedliche Werte verwenden."
   ]
  },
  {
   "cell_type": "code",
   "execution_count": null,
   "id": "6751b59d",
   "metadata": {},
   "outputs": [],
   "source": [
    "steckbrief = {\"Name\":\"Inken\",\n",
    "              \"Name\":\"Lara\", \n",
    "              \"Alter\":24, \n",
    "              \"Verheiratet\":False}\n",
    "\n",
    "print(steckbrief)"
   ]
  },
  {
   "cell_type": "markdown",
   "id": "72a33dd1",
   "metadata": {},
   "source": [
    "Natürlich können wir auch Listen als Elemente verwenden:"
   ]
  },
  {
   "cell_type": "code",
   "execution_count": null,
   "id": "90a84176",
   "metadata": {},
   "outputs": [],
   "source": [
    "freunde = {\"Inken\": [\"Martin\", \"Vroni\"], \"Martin\": [\"Inken\", \"Vroni\"], \"Vroni\": [\"Martin\", \"Inken\"]}"
   ]
  },
  {
   "cell_type": "markdown",
   "id": "7f35db3d",
   "metadata": {},
   "source": [
    "Zurück zu unserem Telefonbuch. Möchte ich jetzt die Nummer von Inken herausfinden, dann kann ich das folgendermaßen tun:"
   ]
  },
  {
   "cell_type": "code",
   "execution_count": null,
   "id": "2efe6e6b",
   "metadata": {},
   "outputs": [],
   "source": [
    "print(telefonbuch[\"Inken\"])"
   ]
  },
  {
   "cell_type": "markdown",
   "id": "b99ba86e",
   "metadata": {},
   "source": [
    "Wir benutzen also wie bei Listen eckige Klammern, aber geben nicht die Postition, sondern den Schlüssel an. \n",
    "\n",
    "Weiteres Besipiel:"
   ]
  },
  {
   "cell_type": "code",
   "execution_count": null,
   "id": "300f4282",
   "metadata": {},
   "outputs": [],
   "source": [
    "print(\"Martins Freunde sind\",freunde[\"Martin\"])"
   ]
  },
  {
   "cell_type": "markdown",
   "id": "31df9409",
   "metadata": {},
   "source": [
    "Möchten wir aus irgendeinem Grund doch nur die Schlüssel haben, können wir das mit dem Befehl `dictionary.keys()` machen:"
   ]
  },
  {
   "cell_type": "code",
   "execution_count": null,
   "id": "fdfd7e2f",
   "metadata": {},
   "outputs": [],
   "source": [
    "telefonbuch = {\"Inken\": 1777837, \"Martin\": 242348283, \"Vroni\": 93382034}\n",
    "\n",
    "print(list(telefonbuch.keys())"
   ]
  },
  {
   "cell_type": "markdown",
   "id": "5b2b74d8",
   "metadata": {},
   "source": [
    "Wie ihr seht, schreiben wir um `telefonbuch.keys()` noch den Befehl `list()`. Das ist notwendig, um letztendlich eine Liste mit den Schlüsseln zu haben."
   ]
  },
  {
   "cell_type": "markdown",
   "id": "757674dd",
   "metadata": {},
   "source": [
    "#### Übung:\n",
    "\n",
    "Erinnerst du dich an die Liste `Lieblingstiere`, die du erstellt hast? Nutze in dieser Aufgabe die Tiere als Schlüssel in einem dictionary. Speichere für jedes Tier ab, von welchem Kontinent es kommt. Gib am Ende den Satz aus. \"... leben auf dem Kontinent ...\", wobei ihr für ... natürlich die Tiere und den Kontinent einsetzen sollt. "
   ]
  },
  {
   "cell_type": "code",
   "execution_count": null,
   "id": "83890415",
   "metadata": {},
   "outputs": [],
   "source": []
  },
  {
   "cell_type": "markdown",
   "id": "3bd28291",
   "metadata": {},
   "source": [
    "## For-Schleifen"
   ]
  },
  {
   "cell_type": "markdown",
   "id": "91e0a869",
   "metadata": {},
   "source": [
    "Im letzten Kurs habt ihr schon while-Schleifen kennengelernt. For-Schleifen funktionieren ganz ähnlich und werden ebenfalls verwendet, um den gleichen Code mehrmals auszuführen. Sie sind sehr praktisch, wenn man beispielsweise durch alle Elemente einer Liste gehen möchte.\n",
    "\n",
    "Beispiel:"
   ]
  },
  {
   "cell_type": "code",
   "execution_count": null,
   "id": "9fa724f8",
   "metadata": {},
   "outputs": [],
   "source": [
    "einkaufsliste = [\"Müsli\", \"Schokolade\", \"Erdbeeren\"]\n",
    "\n",
    "for i in einkaufsliste:\n",
    "    print(i)"
   ]
  },
  {
   "cell_type": "markdown",
   "id": "4cc4c5a6",
   "metadata": {},
   "source": [
    "Im obigen Beispiel gehen wir durch die Liste `einkaufsliste`. Da die Liste die Länge drei hat, wird der Code in der Schleife drei mal ausgeführt. Das `i` nimmt immer den Wert des Listenelements des jeweiligen Durchgangs an. Im ersten Durchgang steht in `i` also \"Müsli\", im zweiten Durchgang \"Schokolade\", und so weiter. Man kann außer i auch jeden anderen Variablennamen nehmen."
   ]
  },
  {
   "cell_type": "markdown",
   "id": "6e92a5be",
   "metadata": {},
   "source": [
    "Wir können mit for-Schleifen auch durch dictionaries gehen. "
   ]
  },
  {
   "cell_type": "code",
   "execution_count": null,
   "id": "220012a7",
   "metadata": {},
   "outputs": [],
   "source": [
    "telefonbuch = {\"Inken\": 1777837, \"Martin\": 242348283, \"Vroni\": 93382034}\n",
    "\n",
    "for s in telefonbuch:\n",
    "    print(s)\n",
    "    print(telefonbuch[s])"
   ]
  },
  {
   "cell_type": "markdown",
   "id": "5b472db0",
   "metadata": {},
   "source": [
    "Wie man sehen kann, steht in s immer der Schlüssel des Paares. Um auf den Wert des Schlüssels zugreifen zu können, müssen wir `telefonbuch[s]` schreiben.\n",
    "\n",
    "Weiteres Beispiel:"
   ]
  },
  {
   "cell_type": "code",
   "execution_count": null,
   "id": "394f5cf6",
   "metadata": {},
   "outputs": [],
   "source": [
    "freunde = {\"Inken\": [\"Martin\", \"Vroni\"], \"Martin\": [\"Inken\", \"Vroni\"], \"Vroni\": [\"Martin\", \"Inken\"]}\n",
    "\n",
    "for schluessel in freunde:\n",
    "    print(schluessel, \"hat die Freunde\", freunde[schluessel])"
   ]
  },
  {
   "cell_type": "markdown",
   "id": "faf8461a",
   "metadata": {},
   "source": [
    "#### Übung 1"
   ]
  },
  {
   "cell_type": "markdown",
   "id": "4d5904b4",
   "metadata": {},
   "source": [
    "In der letzten Übung hast du ein dictionary mit Tieren und Kontinenten erstellt. Gehe nun mit einer for-Schleife über das dictionary und gib für jedes Paar in deinem dictionary \"... leben auf dem Kontinent ...\" aus."
   ]
  },
  {
   "cell_type": "code",
   "execution_count": null,
   "id": "6401caf2",
   "metadata": {},
   "outputs": [],
   "source": []
  },
  {
   "cell_type": "markdown",
   "id": "763051ba",
   "metadata": {},
   "source": [
    "#### Übung 2"
   ]
  },
  {
   "cell_type": "markdown",
   "id": "75d6e1d2",
   "metadata": {},
   "source": [
    "Erstelle eine Liste mit den Zahlen 0 bis 9. Erstelle eine zweite leere Liste. Die Namen für die Listen darfst du dir frei aussuchen. Gehe dann mit einer for-Schleife über die erste Liste. Addiere zu jedem Eintrag eine 1 und hänge das Ergebnis an die zweite Liste an. Vor deinem Code sollten die Listen also so aussehen: `[0, 1, 2, 3, 4, 5, 6, 7, 8, 9], []` und danach so: `[0, 1, 2, 3, 4, 5, 6, 7, 8, 9], [1, 2, 3, 4, 5, 6, 7, 8, 9, 10]`. Die erste Liste soll sich also nicht verändern und die zweite wird mit 10 Einträgen gefüllt:"
   ]
  },
  {
   "cell_type": "code",
   "execution_count": null,
   "id": "ddbab063",
   "metadata": {},
   "outputs": [],
   "source": []
  },
  {
   "cell_type": "markdown",
   "id": "edb1cc51",
   "metadata": {},
   "source": [
    "## Funktionen"
   ]
  },
  {
   "cell_type": "markdown",
   "id": "f7123561",
   "metadata": {},
   "source": [
    "Bisher haben wir unseren Code immer von oben nach unten geschrieben und in der Reihenfolge wurde dieser dann auch ausgeführt. Wenn wir einen Teil unseren Codes noch einmal verwenden wollten, mussten wir alles kopieren und unten anfügen. `Funktionen` sind eine Möglichkeit, wie man Code, der eine bestimmte Sache macht, die man mehrmals in seinem Programm braucht, wieder und wieder verwenden kann, ohne dass man ihn kopieren muss.\n"
   ]
  },
  {
   "cell_type": "markdown",
   "id": "d6bb5a35",
   "metadata": {},
   "source": [
    "Beispiel:\n",
    "\n",
    "Wir wollen ein Programm schreiben, das den Nutzer auffordert, verschiedene Daten über sich anzugeben und nach jeder Nutzerantwort, wollen wir uns mit \"Vielen Dank für die Eingabe\" bedanken. Ohne Funktionen würde das ganze so aussehen:"
   ]
  },
  {
   "cell_type": "code",
   "execution_count": null,
   "id": "ecf8ae25",
   "metadata": {},
   "outputs": [],
   "source": [
    "input(\"Bitte Namen angeben:\")\n",
    "\n",
    "print(\"Vielen Dank für die Eingabe\")\n",
    "\n",
    "input(\"Bitte Alter angeben:\")\n",
    "\n",
    "print(\"Vielen Dank für die Eingabe\")\n",
    "\n",
    "input(\"Bitte Geschlecht angeben:\")\n",
    "\n",
    "print(\"Vielen Dank für die Eingabe\")"
   ]
  },
  {
   "cell_type": "markdown",
   "id": "fd0c8660",
   "metadata": {},
   "source": [
    "Da man den Befehl `print(\"Vielen Dank für die Eingabe\")` mehrmals verwendet, bietet es sich an, eine Funktion für diesen Teil des Codes zu schreiben. Das ganze sieht folgendermaßen aus:"
   ]
  },
  {
   "cell_type": "code",
   "execution_count": null,
   "id": "c2ff207b",
   "metadata": {},
   "outputs": [],
   "source": [
    "def danke():\n",
    "    print(\"Vielen Dank für die Eingabe\")\n",
    "    \n",
    "input(\"Bitte Namen angeben:\")\n",
    "\n",
    "danke()\n",
    "\n",
    "input(\"Bitte Alter angeben:\")\n",
    "\n",
    "danke()\n",
    "\n",
    "input(\"Bitte Geschlecht angeben:\")\n",
    "\n",
    "danke()"
   ]
  },
  {
   "cell_type": "markdown",
   "id": "f5caf96e",
   "metadata": {},
   "source": [
    "In dem Beispiel spart man sich natürlich nicht wahnsinnig viel Schreibarbeit, aber jetzt stellt euch vor, wir müssten die Funktion noch viel häufiger aufrufen, oder der Code innerhalb der Funktion ist noch länger, dann können Funktionen sehr viel Arbeit sparen.\n",
    "\n",
    "Wie in dem Beispiel schon zu sehen ist, erstellt man eine Funktion, indem man `def Funktionsname():` schreibt und den zu der Funktion gehörenden Code eingerückt darunter schreibt. Wie bei Variablen, kann man sich den Funktionsnamen frei aussuchen. Möchte man den Code in der Funktion dann später in seinem Programm verwenden, muss man einfach nur `Funktionsname()`schreiben und der Code in der Funktion wird an der Stelle ausgeführt."
   ]
  },
  {
   "cell_type": "markdown",
   "id": "1eaa7b45",
   "metadata": {},
   "source": [
    "Funktionen können sogar noch mehr als das! Stellt euch vor, wir wollen unser Programm jetzt so ändern, dass wir uns persönlich bei dem Nutzer des Programms bedanken. Da natürlich jeder Nutzer des Programms anders heißt, müssen wir irgendwie in der Lage sein, unserer Funktion den Namen des Nutzers mitzuteilen. Das ist in Python ganz einfach, da Funktionen in der Lage sind, `Parameter` entgegenzunehmen:"
   ]
  },
  {
   "cell_type": "code",
   "execution_count": null,
   "id": "4ddaaed6",
   "metadata": {},
   "outputs": [],
   "source": [
    "def danke(name):\n",
    "    print(\"Vielen Dank für die Eingabe\", name)\n",
    "    \n",
    "x = input(\"Bitte Namen angeben:\")\n",
    "\n",
    "danke(x)\n",
    "\n",
    "input(\"Bitte Alter angeben:\")\n",
    "\n",
    "danke(x)\n",
    "\n",
    "input(\"Bitte Geschlecht angeben:\")\n",
    "\n",
    "danke(x)"
   ]
  },
  {
   "cell_type": "markdown",
   "id": "19eda7a7",
   "metadata": {},
   "source": [
    "Den Namen unseres Parameters können wir uns wieder frei wählen und wir schreiben ihn in die Klammern hinter den Funktionsnamen. Welchen Wert dieser Parameter hat, wird bei dem Aufruf von der Funktion festgelegt. In dem Beispiel speichern wir den Namen in der Variable x und übergeben diese dann an die Funktion."
   ]
  },
  {
   "cell_type": "markdown",
   "id": "211ef486",
   "metadata": {},
   "source": [
    "Weitere Beispiele für Funktionen:"
   ]
  },
  {
   "cell_type": "code",
   "execution_count": null,
   "id": "d70607dc",
   "metadata": {},
   "outputs": [],
   "source": [
    "def quadrat(x):\n",
    "    print(x*x)\n",
    "    \n",
    "    \n",
    "    \n",
    "quadrat(2)\n",
    "quadrat(10)\n",
    "quadrat(535)"
   ]
  },
  {
   "cell_type": "markdown",
   "id": "a744671a",
   "metadata": {},
   "source": [
    "#### Übung:\n",
    "\n",
    "Schreibe eine Funktion, die einen Parameter als Eingabe entgegen nimmt. Die Funktion soll den Eingabeparameter mit 3 multiplizieren und das Ergebnis ausgeben. Erstelle dann eine Liste mit den Zahlen 0 bis 9. Gehe mit einer for-Schleife über die Liste und multipliziere jedes Eintrag der Liste mithilfe deiner Funktion mit 3:"
   ]
  },
  {
   "cell_type": "code",
   "execution_count": null,
   "id": "5bf1a09a",
   "metadata": {},
   "outputs": [],
   "source": []
  },
  {
   "cell_type": "markdown",
   "id": "2dc71c1c",
   "metadata": {},
   "source": [
    "# Spiel: Lustige-Sätze-Generator"
   ]
  },
  {
   "cell_type": "markdown",
   "id": "e03dce1f",
   "metadata": {},
   "source": [
    "Jetzt ist es an der Zeit, alles, was wir bisher gelernt haben, anzuwenden und ein kleines Spiel zu programmieren!\n",
    "\n",
    "Befolge diese Schritte, um einen interaktiven Generator für lustige Zufallssätze zu bauen:\n",
    "\n",
    "1. Importiere die Bibliothek `random`.\n",
    "2. Erstelle eine Liste für jeden Satzteil (im Beispiel werden die Satzteile \"wer?\", \"macht was?\", \"wie?\" und \"warum?\" verwendet, Du kannst aber auch andere benutzen).\n",
    "3. Mache aus den Listen ein Dictionary mit den Satzteil-Fragen als Schlüssel und den Listen, die du zuvor erstellt hast, als Wert.\n",
    "4. Programmiere die Grund-Funktion für das Spiel (das ist die Funktion, die aus jeder Satzteil-Liste ein Element zufällig auswählt und die ausgewählten Wörter als Satz ausgibt). **Tipp 1**: schreibe eine Funktion, die das Dictionary aus Schritt 3 als Eingabe-Parameter verwendet. Diese Funktion soll mit einer Schleife über alle Satzteile aus dem Dictionary gehen und aus jeder der Satzteil-Listen ein Element zufällig auswählen. **Tipp 2**: um zwischen mehreren Wörtern, die man über zwei getrennte `print()`-Aufrufe anzeigen lässt, keine neue Zeile, sondern ein Leerzeichen zu schreiben, kann man den Parameter `end=' '` verwenden. Beispiel:"
   ]
  },
  {
   "cell_type": "code",
   "execution_count": null,
   "id": "b9586c18",
   "metadata": {},
   "outputs": [],
   "source": [
    "print(\"Wort 1\", end=' ')\n",
    "print(\"Wort 2\")"
   ]
  },
  {
   "cell_type": "markdown",
   "id": "0deaab65",
   "metadata": {},
   "source": [
    "5. Mache das Spiel interaktiv durch eine Abfrage, ob man noch eine weitere Runde spielen möchte! Du kannst dafür zum Beispiel eine `while`-Schleife verwenden.\n",
    "6. Erweitere das Spiel, indem Du den Spieler während des Spiels neue Wörter hinzufügen lässt."
   ]
  }
 ],
 "metadata": {
  "kernelspec": {
   "display_name": "Python 3 (ipykernel)",
   "language": "python",
   "name": "python3"
  },
  "language_info": {
   "codemirror_mode": {
    "name": "ipython",
    "version": 3
   },
   "file_extension": ".py",
   "mimetype": "text/x-python",
   "name": "python",
   "nbconvert_exporter": "python",
   "pygments_lexer": "ipython3",
   "version": "3.9.5"
  }
 },
 "nbformat": 4,
 "nbformat_minor": 5
}
